{
 "cells": [
  {
   "cell_type": "markdown",
   "id": "5c4386b2-f36d-4186-b64f-eedb956b45f5",
   "metadata": {},
   "source": [
    "# HTTP"
   ]
  },
  {
   "cell_type": "code",
   "execution_count": 1,
   "id": "6bd595f0-174a-455a-a848-d0b3158e734c",
   "metadata": {},
   "outputs": [],
   "source": [
    "import pandas as pd\n",
    "import matplotlib.pyplot as plt\n",
    "import seaborn as sns\n",
    "import datetime\n",
    "from dateutil.parser import parse"
   ]
  },
  {
   "cell_type": "code",
   "execution_count": 2,
   "id": "2d459601-9dce-4ae8-a63c-5f57b4fd6d57",
   "metadata": {},
   "outputs": [],
   "source": [
    "sent_messages = pd.read_csv('sent_messages2.csv')\n",
    "received_messages = pd.read_csv('received_messages2.csv')"
   ]
  },
  {
   "cell_type": "code",
   "execution_count": 3,
   "id": "b04fd4fb-74de-42e7-8c1f-72865f9b9810",
   "metadata": {},
   "outputs": [],
   "source": [
    "sent_messages = sent_messages.set_index('id')\n",
    "received_messages = received_messages.set_index('id')\n",
    "\n",
    "messages = sent_messages.join(received_messages, how='inner').reset_index()"
   ]
  },
  {
   "cell_type": "code",
   "execution_count": 4,
   "id": "1102b8d5-54a9-4d58-bd94-4ae0dbdcf75a",
   "metadata": {},
   "outputs": [],
   "source": [
    "messages[\"client_sent_time\"] = messages[\"client_sent_time\"].apply(lambda str_: datetime.datetime.fromisoformat(str_))\n",
    "messages[\"client_received_time\"] = messages[\"client_received_time\"].apply(lambda str_: datetime.datetime.fromisoformat(str_))\n",
    "messages[\"server_received_time\"] = messages[\"server_received_time\"].apply(lambda str_: parse(str_))\n",
    "\n",
    "messages[\"latency\"] = messages[\"client_received_time\"] - messages[\"client_sent_time\"]\n",
    "messages[\"latency\"] = messages[\"latency\"].apply(lambda x: x.total_seconds())\n",
    "# messages[\"latency\"] = (messages[\"client_received_time\"] - messages[\"client_sent_time\"]).astype(int)"
   ]
  },
  {
   "cell_type": "code",
   "execution_count": 5,
   "id": "6075108e-31cc-4fcd-838a-50c39c483a8d",
   "metadata": {
    "tags": []
   },
   "outputs": [
    {
     "data": {
      "text/plain": [
       "id                                        int64\n",
       "client_sent_time            datetime64[ns, UTC]\n",
       "server_received_time    datetime64[ns, tzutc()]\n",
       "client_received_time        datetime64[ns, UTC]\n",
       "latency                                 float64\n",
       "dtype: object"
      ]
     },
     "execution_count": 5,
     "metadata": {},
     "output_type": "execute_result"
    }
   ],
   "source": [
    "messages.dtypes"
   ]
  },
  {
   "cell_type": "code",
   "execution_count": 6,
   "id": "d387c3ea-7bb2-4d64-84e0-99a8122340fa",
   "metadata": {},
   "outputs": [
    {
     "data": {
      "text/html": [
       "<div>\n",
       "<style scoped>\n",
       "    .dataframe tbody tr th:only-of-type {\n",
       "        vertical-align: middle;\n",
       "    }\n",
       "\n",
       "    .dataframe tbody tr th {\n",
       "        vertical-align: top;\n",
       "    }\n",
       "\n",
       "    .dataframe thead th {\n",
       "        text-align: right;\n",
       "    }\n",
       "</style>\n",
       "<table border=\"1\" class=\"dataframe\">\n",
       "  <thead>\n",
       "    <tr style=\"text-align: right;\">\n",
       "      <th></th>\n",
       "      <th>id</th>\n",
       "      <th>client_sent_time</th>\n",
       "      <th>server_received_time</th>\n",
       "      <th>client_received_time</th>\n",
       "      <th>latency</th>\n",
       "    </tr>\n",
       "  </thead>\n",
       "  <tbody>\n",
       "    <tr>\n",
       "      <th>0</th>\n",
       "      <td>1</td>\n",
       "      <td>2023-05-02 14:01:50.780248+00:00</td>\n",
       "      <td>2023-05-02 14:01:50.816205+00:00</td>\n",
       "      <td>2023-05-02 14:01:50.897990+00:00</td>\n",
       "      <td>0.117742</td>\n",
       "    </tr>\n",
       "    <tr>\n",
       "      <th>1</th>\n",
       "      <td>2</td>\n",
       "      <td>2023-05-02 14:01:50.961707+00:00</td>\n",
       "      <td>2023-05-02 14:01:50.992470+00:00</td>\n",
       "      <td>2023-05-02 14:01:51.089449+00:00</td>\n",
       "      <td>0.127742</td>\n",
       "    </tr>\n",
       "    <tr>\n",
       "      <th>2</th>\n",
       "      <td>3</td>\n",
       "      <td>2023-05-02 14:01:51.110969+00:00</td>\n",
       "      <td>2023-05-02 14:01:51.159111+00:00</td>\n",
       "      <td>2023-05-02 14:01:51.283403+00:00</td>\n",
       "      <td>0.172434</td>\n",
       "    </tr>\n",
       "    <tr>\n",
       "      <th>3</th>\n",
       "      <td>4</td>\n",
       "      <td>2023-05-02 14:01:51.270589+00:00</td>\n",
       "      <td>2023-05-02 14:01:51.309722+00:00</td>\n",
       "      <td>2023-05-02 14:01:51.283403+00:00</td>\n",
       "      <td>0.012814</td>\n",
       "    </tr>\n",
       "    <tr>\n",
       "      <th>4</th>\n",
       "      <td>5</td>\n",
       "      <td>2023-05-02 14:01:51.408412+00:00</td>\n",
       "      <td>2023-05-02 14:01:51.459094+00:00</td>\n",
       "      <td>2023-05-02 14:01:51.472720+00:00</td>\n",
       "      <td>0.064308</td>\n",
       "    </tr>\n",
       "    <tr>\n",
       "      <th>...</th>\n",
       "      <td>...</td>\n",
       "      <td>...</td>\n",
       "      <td>...</td>\n",
       "      <td>...</td>\n",
       "      <td>...</td>\n",
       "    </tr>\n",
       "    <tr>\n",
       "      <th>1596</th>\n",
       "      <td>1605</td>\n",
       "      <td>2023-05-02 14:06:55.845515+00:00</td>\n",
       "      <td>2023-05-02 14:06:55.884565+00:00</td>\n",
       "      <td>2023-05-02 14:06:55.861457+00:00</td>\n",
       "      <td>0.015942</td>\n",
       "    </tr>\n",
       "    <tr>\n",
       "      <th>1597</th>\n",
       "      <td>1606</td>\n",
       "      <td>2023-05-02 14:06:56.079445+00:00</td>\n",
       "      <td>2023-05-02 14:06:56.061822+00:00</td>\n",
       "      <td>2023-05-02 14:06:56.111791+00:00</td>\n",
       "      <td>0.032346</td>\n",
       "    </tr>\n",
       "    <tr>\n",
       "      <th>1598</th>\n",
       "      <td>1607</td>\n",
       "      <td>2023-05-02 14:06:56.244733+00:00</td>\n",
       "      <td>2023-05-02 14:06:56.267681+00:00</td>\n",
       "      <td>2023-05-02 14:06:56.342554+00:00</td>\n",
       "      <td>0.097821</td>\n",
       "    </tr>\n",
       "    <tr>\n",
       "      <th>1599</th>\n",
       "      <td>1608</td>\n",
       "      <td>2023-05-02 14:06:56.415700+00:00</td>\n",
       "      <td>2023-05-02 14:06:56.450095+00:00</td>\n",
       "      <td>2023-05-02 14:06:56.548275+00:00</td>\n",
       "      <td>0.132575</td>\n",
       "    </tr>\n",
       "    <tr>\n",
       "      <th>1600</th>\n",
       "      <td>1609</td>\n",
       "      <td>2023-05-02 14:06:56.570009+00:00</td>\n",
       "      <td>2023-05-02 14:06:56.608505+00:00</td>\n",
       "      <td>2023-05-02 14:06:56.806812+00:00</td>\n",
       "      <td>0.236803</td>\n",
       "    </tr>\n",
       "  </tbody>\n",
       "</table>\n",
       "<p>1601 rows × 5 columns</p>\n",
       "</div>"
      ],
      "text/plain": [
       "        id                 client_sent_time             server_received_time  \\\n",
       "0        1 2023-05-02 14:01:50.780248+00:00 2023-05-02 14:01:50.816205+00:00   \n",
       "1        2 2023-05-02 14:01:50.961707+00:00 2023-05-02 14:01:50.992470+00:00   \n",
       "2        3 2023-05-02 14:01:51.110969+00:00 2023-05-02 14:01:51.159111+00:00   \n",
       "3        4 2023-05-02 14:01:51.270589+00:00 2023-05-02 14:01:51.309722+00:00   \n",
       "4        5 2023-05-02 14:01:51.408412+00:00 2023-05-02 14:01:51.459094+00:00   \n",
       "...    ...                              ...                              ...   \n",
       "1596  1605 2023-05-02 14:06:55.845515+00:00 2023-05-02 14:06:55.884565+00:00   \n",
       "1597  1606 2023-05-02 14:06:56.079445+00:00 2023-05-02 14:06:56.061822+00:00   \n",
       "1598  1607 2023-05-02 14:06:56.244733+00:00 2023-05-02 14:06:56.267681+00:00   \n",
       "1599  1608 2023-05-02 14:06:56.415700+00:00 2023-05-02 14:06:56.450095+00:00   \n",
       "1600  1609 2023-05-02 14:06:56.570009+00:00 2023-05-02 14:06:56.608505+00:00   \n",
       "\n",
       "                 client_received_time   latency  \n",
       "0    2023-05-02 14:01:50.897990+00:00  0.117742  \n",
       "1    2023-05-02 14:01:51.089449+00:00  0.127742  \n",
       "2    2023-05-02 14:01:51.283403+00:00  0.172434  \n",
       "3    2023-05-02 14:01:51.283403+00:00  0.012814  \n",
       "4    2023-05-02 14:01:51.472720+00:00  0.064308  \n",
       "...                               ...       ...  \n",
       "1596 2023-05-02 14:06:55.861457+00:00  0.015942  \n",
       "1597 2023-05-02 14:06:56.111791+00:00  0.032346  \n",
       "1598 2023-05-02 14:06:56.342554+00:00  0.097821  \n",
       "1599 2023-05-02 14:06:56.548275+00:00  0.132575  \n",
       "1600 2023-05-02 14:06:56.806812+00:00  0.236803  \n",
       "\n",
       "[1601 rows x 5 columns]"
      ]
     },
     "execution_count": 6,
     "metadata": {},
     "output_type": "execute_result"
    }
   ],
   "source": [
    "messages"
   ]
  },
  {
   "cell_type": "code",
   "execution_count": 8,
   "id": "7da412a9-5e65-4d47-a879-eaf7464be209",
   "metadata": {},
   "outputs": [
    {
     "data": {
      "image/png": "[encoded data removed]",
      "text/plain": [
       "<Figure size 432x288 with 1 Axes>"
      ]
     },
     "metadata": {
      "needs_background": "light"
     },
     "output_type": "display_data"
    }
   ],
   "source": [
    "messages['latency'].plot(kind='hist', edgecolor='black', bins=30)\n",
    "\n",
    "# Customize the plot\n",
    "plt.title('Histogram of Column HTTP/1.1 latency')\n",
    "plt.xlabel('Values, seconds')\n",
    "plt.ylabel('Frequency')\n",
    "\n",
    "# Show the plot\n",
    "ax = plt.gca()\n",
    "# ax.set_xlim([0, 0.225])\n",
    "ax.set_ylim([0, 1000])\n",
    "plt.show()"
   ]
  },
  {
   "cell_type": "markdown",
   "id": "c9be4218-0865-4546-b9d9-09d25d696b21",
   "metadata": {},
   "source": [
    "# Ws"
   ]
  },
  {
   "cell_type": "code",
   "execution_count": 9,
   "id": "08999722-1404-4ffb-92c0-99988f7e28ad",
   "metadata": {},
   "outputs": [],
   "source": [
    "ws_messages = pd.read_csv(\"ws_messages3.csv\")\n",
    "ws_messages[\"client_sent_time\"] = ws_messages[\"client_sent_time\"].apply(lambda str_: datetime.datetime.fromisoformat(str_))\n",
    "ws_messages[\"client_received_time\"] = ws_messages[\"client_received_time\"].apply(lambda str_: datetime.datetime.fromisoformat(str_))\n",
    "ws_messages[\"latency\"] = ws_messages[\"client_received_time\"] - ws_messages[\"client_sent_time\"]\n",
    "ws_messages[\"latency\"] = ws_messages[\"latency\"].apply(lambda x: x.total_seconds())"
   ]
  },
  {
   "cell_type": "code",
   "execution_count": 10,
   "id": "3d705919-4295-4ec1-9724-a4787aedef5b",
   "metadata": {},
   "outputs": [
    {
     "data": {
      "image/png": "[encoded data removed]",
      "text/plain": [
       "<Figure size 1008x864 with 1 Axes>"
      ]
     },
     "metadata": {
      "needs_background": "light"
     },
     "output_type": "display_data"
    }
   ],
   "source": [
    "plt.rcParams['figure.figsize']=(14, 12)\n",
    "plt.hist(messages['latency'], label='http', bins=300)\n",
    "plt.hist(ws_messages['latency'], label='ws', bins=300)\n",
    "\n",
    "plt.title('Histogram of Column WS latency')\n",
    "plt.xlabel('Latency, seconds', fontsize = 16)\n",
    "plt.ylabel('Frequency', fontsize=16)\n",
    "\n",
    "# Show the plot\n",
    "plt.legend()\n",
    "plt.grid()\n",
    "plt.title('Ws and http latency hist', fontsize=16)\n",
    "plt.savefig('latency.png')\n",
    "# plt.show()\n",
    "\n"
   ]
  },
  {
   "cell_type": "code",
   "execution_count": 11,
   "id": "1dd1e601-8ef9-4ece-afec-fd8f563a7520",
   "metadata": {},
   "outputs": [],
   "source": [
    "latency_df = pd.DataFrame({'protocol': ['http'] * len(messages.latency) + ['websocket'] * len(ws_messages.latency),\n",
    "                           'latency': messages.latency.tolist() + ws_messages.latency.tolist()})\n",
    "\n",
    "latency_df = latency_df.sort_values(by='latency')[:-10]"
   ]
  },
  {
   "cell_type": "code",
   "execution_count": 14,
   "id": "0433a796-f54e-4406-ba83-47f0fb6f1e47",
   "metadata": {
    "tags": []
   },
   "outputs": [
    {
     "data": {
      "image/png": "[encoded data removed]",
      "text/plain": [
       "<Figure size 1008x864 with 1 Axes>"
      ]
     },
     "metadata": {},
     "output_type": "display_data"
    }
   ],
   "source": [
    "ws_http_latency = pd.DataFrame(data={\"http\": messages.latency, \"ws\": ws_messages.latency})\n",
    "# all_arr = [messages.latency.tolist(),\n",
    "#            ws_messages.latency.tolist()]\n",
    "\n",
    "box_plot = sns.boxplot(data=latency_df, orient=\"h\", x='latency', y='protocol')\n",
    "sns.set_style(\"ticks\")\n",
    "# sns.boxplot(data=ws_http_latency, orient=\"h\")\n",
    "\n",
    "fig = box_plot.get_figure()\n",
    "fig.savefig(\"latency_boxplot.png\") "
   ]
  },
  {
   "cell_type": "code",
   "execution_count": null,
   "id": "b2e45d6e-3752-4e96-b7b6-79e0a6bb61b3",
   "metadata": {},
   "outputs": [],
   "source": []
  },
  {
   "cell_type": "code",
   "execution_count": null,
   "id": "13aa0207-165f-4f18-b8cf-433210b98487",
   "metadata": {},
   "outputs": [],
   "source": []
  }
 ],
 "metadata": {
  "kernelspec": {
   "display_name": "Python 3 (ipykernel)",
   "language": "python",
   "name": "python3"
  },
  "language_info": {
   "codemirror_mode": {
    "name": "ipython",
    "version": 3
   },
   "file_extension": ".py",
   "mimetype": "text/x-python",
   "name": "python",
   "nbconvert_exporter": "python",
   "pygments_lexer": "ipython3",
   "version": "3.9.7"
  }
 },
 "nbformat": 4,
 "nbformat_minor": 5
}
